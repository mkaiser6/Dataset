{
  "nbformat": 4,
  "nbformat_minor": 0,
  "metadata": {
    "colab": {
      "name": "CA02.ipynb",
      "provenance": [],
      "collapsed_sections": []
    },
    "kernelspec": {
      "name": "python3",
      "display_name": "Python 3"
    }
  },
  "cells": [
    {
      "cell_type": "markdown",
      "metadata": {
        "id": "3QbNZX0COI0D"
      },
      "source": [
        "**This is a eMail Spam Classifers that uses Naive Bayes supervised machine learning algorithm.**"
      ]
    },
    {
      "cell_type": "markdown",
      "metadata": {
        "id": "RelgVJM47VpS"
      },
      "source": [
        "*Step 1:* Training the model with set of emails labelled as either from Spam or Not Spam. There are 702 emails equally divided into spam and non spam category. \n",
        "\n",
        "*Step 2:*  Test the model on 260 emails. We shall ask model to predict the category of this emails and compare the accuracy with correct classification that we already know\n",
        "\n",
        "Assumptions: independence in features "
      ]
    },
    {
      "cell_type": "code",
      "metadata": {
        "id": "5305_cDt9NFJ"
      },
      "source": [
        "#Step 1 Import packages \n",
        "# -*- coding: utf-8 -*-\n",
        "\n",
        "import os # Miscellaneous operating system interfaces, provides a portable way of using operating system dependent functionality\n",
        "import numpy as np # Numerical Python, to work with large, multi-dimensional arrays and matrices,high-level mathematical functions to operate on arrays\n",
        "from collections import Counter #dict subclass for counting hashable objects\n",
        "from sklearn.naive_bayes import GaussianNB #implements the Gaussian Naive Bayes algorithm for classification\n",
        "from sklearn.metrics import accuracy_score #multilabel classification, computes subset accuracy\n"
      ],
      "execution_count": 54,
      "outputs": []
    },
    {
      "cell_type": "code",
      "metadata": {
        "colab": {
          "base_uri": "https://localhost:8080/"
        },
        "id": "_-M8qx0V2mdI",
        "outputId": "ea291cff-93b9-4289-d117-3b0c1def283b"
      },
      "source": [
        "# simple way to share files is to mount your Google Drive\n",
        "from google.colab import drive \n",
        "drive.mount('/content/drive',force_remount=True)\n",
        "\n",
        "# allow access to drive and enter authentication code "
      ],
      "execution_count": 55,
      "outputs": [
        {
          "output_type": "stream",
          "text": [
            "Mounted at /content/drive\n"
          ],
          "name": "stdout"
        }
      ]
    },
    {
      "cell_type": "markdown",
      "metadata": {
        "id": "ufud_fGqOE8v"
      },
      "source": [
        "This function builds a Dictionary of most common 3000 words from all the email content. \n",
        "First it adds all words and symbols in the dictionary. \n",
        "Then it removes all non-alpha-numeric characters and any single character alpha-numeric characters. \n",
        "After this is complete it shrinks the Dictionary by keeping only most common 3000 words in the dictionary. It returns the Dictionary."
      ]
    },
    {
      "cell_type": "code",
      "metadata": {
        "id": "uBKc2Jf69WuS"
      },
      "source": [
        "#Function that reads the email files from a folder and constructs a dictionary for all words\n",
        "\n",
        "def make_dict(root_dir):  # defining the function, with parameter \"\"\n",
        "  each_word = [] # creating empty list \n",
        "\n",
        "  emails = [os.path.join(root_dir,f) for f in os.listdir(root_dir)] # creating a list 'emails', \n",
        "  # os.path.join() method returns a string which represents the concatenated path components\n",
        "  # os.listdir() method retrieves a list of all the files in ''\n",
        "  # for loop through all emails in list_of_emails (change line above)\n",
        "  for mail in emails:  \n",
        "    with open(mail) as m:  #'with' simplifies management file streams, no need to call file.close(), save as ''\n",
        "      for line in m: # loop through each item in email \n",
        "        words = line.split() # returns a list of all the words in the string\n",
        "        each_word += words # creating list with all words (addition)\n",
        "  dictionary = Counter(each_word) # creates dictionary with key + value (keeps track of how many times equivalent values are added)\n",
        "  list_to_remove = list(dictionary) # returns a list from dictionary \n",
        "\n",
        "  for item in list_to_remove:  # iterating over the list \n",
        "    if item.isalpha() == False: # deleting if not alphabet letter (a-z), isaplha()- boolean True/False \n",
        "      del dictionary[item]\n",
        "    elif len(item) == 1: # deleting if only 1 character (lenght of word = 1)\n",
        "      del dictionary[item]\n",
        "  dictionary = dictionary.most_common(3000) # returns list,sorted based on the count of the elements, limit 3000 and saving back in dictionary\n",
        "  return dictionary"
      ],
      "execution_count": 56,
      "outputs": []
    },
    {
      "cell_type": "markdown",
      "metadata": {
        "id": "T6H5ScA2Ok94"
      },
      "source": [
        "This function extracts feature columns and populates their values (Feature Matrix of 3000 comumns and rows equal to the number of email files). \n",
        "The function also analyzes the File Names of each email file and decides if it's a Spam or not based on the naming convention. \n",
        "Based on this the function also creates the Labelled Data Column. This function is used to extract the training dataset as well as the testing dataset and returns the Feature Dataset and the Label column.\n"
      ]
    },
    {
      "cell_type": "code",
      "metadata": {
        "id": "_114eEpq9gff"
      },
      "source": [
        "\n",
        "\n",
        "# extract features function that removes less common words from every document \n",
        "\n",
        "def extr_features(mail_dir): # defining fucntion with parameter ''\n",
        "  all_files = [os.path.join(mail_dir,fi) for fi in os.listdir(mail_dir)] # create list with joined path components \n",
        "\n",
        "  feat_matrix = np.zeros((len(all_files),3000)) # Return a new array (Matrix) of given shape(len of files-rows) and columns 3000 (and optional type), filled with zeros\n",
        "  train_labels = np.zeros(len(all_files)) # zeros() function --> matrix with 0 with give shape (len of files)\n",
        "  count = 1; # start of counter set to 1\n",
        "  docID = 0; #docId set to 0 \n",
        "  for fil in all_files: # iterate over each file \n",
        "    with open(fil) as fi: # save as fi \n",
        "      for i, line in enumerate(fi): # enumerate to get counter in loop\n",
        "        if i ==2: \n",
        "          words = line.split() # split if 2 \n",
        "          for word in words:\n",
        "            wordID = 0\n",
        "            for i, d in enumerate(dictionary):\n",
        "              if d[0] == word:\n",
        "                wordID = i\n",
        "                feat_matrix[docID,wordID] = words.count(word)\n",
        "      train_labels[docID] = 0;\n",
        "      filepathTokens = fil.split('/') # use split method at each character backslash ('/') character \n",
        "      lastToken = filepathTokens[len(filepathTokens)-1]\n",
        "\n",
        "      if lastToken.startswith(\"spmsg\"):  #  we know that spmsga162.txt files are spam \n",
        "                                         #\n",
        "        train_labels[docID] = 1; # label as 1 (spam mail), dummy variable?!\n",
        "        count = count + 1 # increaese by 1 for each loop \n",
        "      docID = docID + 1 \n",
        "  return feat_matrix, train_labels\n"
      ],
      "execution_count": 57,
      "outputs": []
    },
    {
      "cell_type": "markdown",
      "metadata": {
        "id": "neFBFf5dOxiQ"
      },
      "source": [
        "The section is the main Program that calls the above two functions and gets executed first. \n",
        "First it \"trains\" the model using model.fit function and Training Dataset. \n",
        "After that it scores the Test Data set by running the Trained Model with the Test Data set. \n",
        "At the end it prints the model performance in terms of accuracy score.\n"
      ]
    },
    {
      "cell_type": "code",
      "metadata": {
        "id": "QMLx-iq4zv7V"
      },
      "source": [
        "TRAIN_DIR = '/content/drive/My Drive/MSBA_Colab_2020/ML_Algorithms/CA02/Data/train-mails'\n",
        "TEST_DIR = '/content/drive/My Drive/MSBA_Colab_2020/ML_Algorithms/CA02/Data/test-mails'"
      ],
      "execution_count": 58,
      "outputs": []
    },
    {
      "cell_type": "code",
      "metadata": {
        "colab": {
          "base_uri": "https://localhost:8080/",
          "height": 368
        },
        "id": "Z78SxFnM9hi6",
        "outputId": "c674cb65-813d-4148-c1fa-e6baae27bfd7"
      },
      "source": [
        "\n",
        "dictionary = make_dict(TRAIN_DIR)\n",
        "\n",
        "print (\"reading and processing emails from TRAIN and TEST folders\")\n",
        "feat_matrix, labels = extr_features(TRAIN_DIR)\n",
        "test_feat_matrix, test_labels = extr_features(TEST_DIR)\n",
        "\n",
        "model = GaussianNB()\n",
        "\n",
        "print (\"Training Model using Gaussian Naibe Bayes algorithm .....\")\n",
        "# train model\n",
        "model.fit(feat_matrix, labels)\n",
        "print (\"Training completed\")\n",
        "print (\"testing trained model to predict Test Data labels\")\n",
        "#predict/test\n",
        "predicted_labels = model.predict(test_feat_matrix)\n",
        "print (\"Completed classification of the Test Data .... now printing Accuracy Score by comparing the Predicted Labels with the Test Labels:\")\n",
        "print (accuracy_score(test_labels, predicted_labels))\n",
        "# percentage of correct predictions \n",
        "\n",
        "\"\"\"======================= END OF PROGRAM =========================\"\"\""
      ],
      "execution_count": 60,
      "outputs": [
        {
          "output_type": "error",
          "ename": "FileNotFoundError",
          "evalue": "ignored",
          "traceback": [
            "\u001b[0;31m---------------------------------------------------------------------------\u001b[0m",
            "\u001b[0;31mFileNotFoundError\u001b[0m                         Traceback (most recent call last)",
            "\u001b[0;32m<ipython-input-60-995ea48340c8>\u001b[0m in \u001b[0;36m<module>\u001b[0;34m()\u001b[0m\n\u001b[1;32m      1\u001b[0m \u001b[0;34m\u001b[0m\u001b[0m\n\u001b[0;32m----> 2\u001b[0;31m \u001b[0mdictionary\u001b[0m \u001b[0;34m=\u001b[0m \u001b[0mmake_dict\u001b[0m\u001b[0;34m(\u001b[0m\u001b[0mTRAIN_DIR\u001b[0m\u001b[0;34m)\u001b[0m\u001b[0;34m\u001b[0m\u001b[0;34m\u001b[0m\u001b[0m\n\u001b[0m\u001b[1;32m      3\u001b[0m \u001b[0;34m\u001b[0m\u001b[0m\n\u001b[1;32m      4\u001b[0m \u001b[0mprint\u001b[0m \u001b[0;34m(\u001b[0m\u001b[0;34m\"reading and processing emails from TRAIN and TEST folders\"\u001b[0m\u001b[0;34m)\u001b[0m\u001b[0;34m\u001b[0m\u001b[0;34m\u001b[0m\u001b[0m\n\u001b[1;32m      5\u001b[0m \u001b[0mfeat_matrix\u001b[0m\u001b[0;34m,\u001b[0m \u001b[0mlabels\u001b[0m \u001b[0;34m=\u001b[0m \u001b[0mextr_features\u001b[0m\u001b[0;34m(\u001b[0m\u001b[0mTRAIN_DIR\u001b[0m\u001b[0;34m)\u001b[0m\u001b[0;34m\u001b[0m\u001b[0;34m\u001b[0m\u001b[0m\n",
            "\u001b[0;32m<ipython-input-56-90431addbd39>\u001b[0m in \u001b[0;36mmake_dict\u001b[0;34m(root_dir)\u001b[0m\n\u001b[1;32m      4\u001b[0m   \u001b[0meach_word\u001b[0m \u001b[0;34m=\u001b[0m \u001b[0;34m[\u001b[0m\u001b[0;34m]\u001b[0m \u001b[0;31m# creating empty list\u001b[0m\u001b[0;34m\u001b[0m\u001b[0;34m\u001b[0m\u001b[0m\n\u001b[1;32m      5\u001b[0m \u001b[0;34m\u001b[0m\u001b[0m\n\u001b[0;32m----> 6\u001b[0;31m   \u001b[0memails\u001b[0m \u001b[0;34m=\u001b[0m \u001b[0;34m[\u001b[0m\u001b[0mos\u001b[0m\u001b[0;34m.\u001b[0m\u001b[0mpath\u001b[0m\u001b[0;34m.\u001b[0m\u001b[0mjoin\u001b[0m\u001b[0;34m(\u001b[0m\u001b[0mroot_dir\u001b[0m\u001b[0;34m,\u001b[0m\u001b[0mf\u001b[0m\u001b[0;34m)\u001b[0m \u001b[0;32mfor\u001b[0m \u001b[0mf\u001b[0m \u001b[0;32min\u001b[0m \u001b[0mos\u001b[0m\u001b[0;34m.\u001b[0m\u001b[0mlistdir\u001b[0m\u001b[0;34m(\u001b[0m\u001b[0mroot_dir\u001b[0m\u001b[0;34m)\u001b[0m\u001b[0;34m]\u001b[0m \u001b[0;31m# creating a list 'emails',\u001b[0m\u001b[0;34m\u001b[0m\u001b[0;34m\u001b[0m\u001b[0m\n\u001b[0m\u001b[1;32m      7\u001b[0m   \u001b[0;31m# os.path.join() method returns a string which represents the concatenated path components\u001b[0m\u001b[0;34m\u001b[0m\u001b[0;34m\u001b[0m\u001b[0;34m\u001b[0m\u001b[0m\n\u001b[1;32m      8\u001b[0m   \u001b[0;31m# os.listdir() method retrieves a list of all the files in ''\u001b[0m\u001b[0;34m\u001b[0m\u001b[0;34m\u001b[0m\u001b[0;34m\u001b[0m\u001b[0m\n",
            "\u001b[0;31mFileNotFoundError\u001b[0m: [Errno 2] No such file or directory: '/content/drive/My Drive/MSBA_Colab_2020/ML_Algorithms/CA02/Data/train-mails'"
          ]
        }
      ]
    }
  ]
}
